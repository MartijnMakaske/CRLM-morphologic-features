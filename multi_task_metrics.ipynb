{
 "cells": [
  {
   "cell_type": "code",
   "execution_count": null,
   "id": "60a60101",
   "metadata": {},
   "outputs": [],
   "source": [
    "# Imports\n",
    "import pandas as pd\n",
    "from sksurv.util import Surv\n",
    "import numpy as np\n",
    "import matplotlib.pyplot as plt\n",
    "import numpy as np\n",
    "from typing import Callable, Tuple\n",
    "import seaborn as sns\n",
    "\n",
    "from sklearn.metrics import accuracy_score, roc_auc_score, f1_score, confusion_matrix, roc_curve\n",
    "\n",
    "from torchsurv.metrics.cindex import ConcordanceIndex\n",
    "from torchsurv.metrics.auc import Auc\n",
    "import torch\n",
    "\n",
    "# Set random seed for reproducibility\n",
    "_ = torch.manual_seed(42)"
   ]
  },
  {
   "cell_type": "markdown",
   "id": "c5a9bb39",
   "metadata": {},
   "source": [
    "# Metric calculation"
   ]
  },
  {
   "cell_type": "code",
   "execution_count": null,
   "id": "614d75eb",
   "metadata": {},
   "outputs": [],
   "source": [
    "# data imports CAIRO train\n",
    "\n",
    "results_CAIRO_train = pd.read_csv(\"results/multi_task_model_predictions_training.csv\")\n",
    "targets_CAIRO_train = pd.read_csv(\"data/training_data.csv\")\n",
    "\n",
    "# Create masks for path response\n",
    "path_mask_CAIRO_train = targets_CAIRO_train[\"path_resp\"] != -1\n",
    "\n",
    "# CAIRO train predictions and targets\n",
    "path_probs_CAIRO_train = results_CAIRO_train[\"path_probs\"][path_mask_CAIRO_train].reset_index(drop=True)\n",
    "path_preds_CAIRO_train = results_CAIRO_train[\"path_preds\"][path_mask_CAIRO_train].reset_index(drop=True)\n",
    "pfs_preds_CAIRO_train = torch.tensor(results_CAIRO_train[\"pfs_preds\"].values, dtype=torch.float32)\n",
    "os_preds_CAIRO_train = torch.tensor(results_CAIRO_train[\"os_preds\"].values, dtype=torch.float32)\n",
    "\n",
    "path_labels_CAIRO_train = targets_CAIRO_train[\"path_resp\"][path_mask_CAIRO_train].reset_index(drop=True)\n",
    "pfs_targets_CAIRO_train = torch.tensor(targets_CAIRO_train[\"pfs\"].values, dtype=torch.float32)\n",
    "pfs_events_CAIRO_train = torch.tensor(targets_CAIRO_train[\"pfsstat\"].values, dtype=torch.bool)\n",
    "os_targets_CAIRO_train = torch.tensor(targets_CAIRO_train[\"OS\"].values, dtype=torch.float32)\n",
    "os_events_CAIRO_train = torch.tensor(targets_CAIRO_train[\"OSSTAT\"].values, dtype=torch.bool)"
   ]
  },
  {
   "cell_type": "code",
   "execution_count": null,
   "id": "82527fd0",
   "metadata": {},
   "outputs": [],
   "source": [
    "# Data imports CAIRO\n",
    "results_CAIRO = pd.read_csv(\"./results/multi_task_model_predictions_test_CAIRO.csv\")\n",
    "\n",
    "targets_CAIRO = pd.read_csv(\"./data/test_data_CAIRO.csv\")\n",
    "\n",
    "\n",
    "# Create masks for path response\n",
    "path_mask_CAIRO = targets_CAIRO[\"path_resp\"] != -1\n",
    "\n",
    "# CAIRO predictions and targets\n",
    "path_probs_CAIRO = results_CAIRO[\"path_probs\"][path_mask_CAIRO].reset_index(drop=True)\n",
    "path_preds_CAIRO = results_CAIRO[\"path_preds\"][path_mask_CAIRO].reset_index(drop=True)\n",
    "pfs_preds_CAIRO = torch.tensor(results_CAIRO[\"pfs_preds\"].values, dtype=torch.float32)\n",
    "os_preds_CAIRO = torch.tensor(results_CAIRO[\"os_preds\"].values, dtype=torch.float32)\n",
    "\n",
    "path_labels_CAIRO = targets_CAIRO[\"path_resp\"][path_mask_CAIRO].reset_index(drop=True)\n",
    "pfs_targets_CAIRO = torch.tensor(targets_CAIRO[\"pfs\"].values, dtype=torch.float32)\n",
    "pfs_events_CAIRO = torch.tensor(targets_CAIRO[\"pfsstat\"].values, dtype=torch.bool)   \n",
    "os_targets_CAIRO = torch.tensor(targets_CAIRO[\"OS\"].values, dtype=torch.float32)\n",
    "os_events_CAIRO = torch.tensor(targets_CAIRO[\"OSSTAT\"].values, dtype=torch.bool)\n",
    "\n",
    "\n",
    "# Time points for auc-roc metrics (1,2,3 years and 1, 3, 5 years)   \n",
    "# (Shoud determine again after we have AmCore), perhaps seperate ones for Cairo an AmCORE\n",
    "time_points_CAIRO = torch.tensor([365, 1095], dtype=torch.float32)  # 1, 3, 5 years in days\n"
   ]
  },
  {
   "cell_type": "code",
   "execution_count": null,
   "id": "16223130",
   "metadata": {},
   "outputs": [],
   "source": [
    "# Data imports AmCORE\n",
    "\n",
    "results_AmCore = pd.read_csv(\"./results/multi_task_model_predictions_test_AmCORE.csv\")\n",
    "targets_AmCore = pd.read_csv(\"./data/test_data_AmCore.csv\")\n",
    "\n",
    "# Create mask for path response\n",
    "path_mask_AmCore = targets_AmCore[\"path_resp\"] != -1\n",
    "\n",
    "# AmCore predictions and targets\n",
    "path_probs_AmCore = results_AmCore[\"path_probs\"][path_mask_AmCore].reset_index(drop=True)\n",
    "path_preds_AmCore = results_AmCore[\"path_preds\"][path_mask_AmCore].reset_index(drop=True)\n",
    "pfs_preds_AmCore = torch.tensor(results_AmCore[\"pfs_preds\"].values, dtype=torch.float32)\n",
    "os_preds_AmCore = torch.tensor(results_AmCore[\"os_preds\"].values, dtype=torch.float32)\n",
    "\n",
    "path_labels_AmCore = targets_AmCore[\"path_resp\"][path_mask_AmCore].reset_index(drop=True)\n",
    "pfs_targets_AmCore = torch.tensor(targets_AmCore[\"pfs\"].values, dtype=torch.float32)\n",
    "pfs_events_AmCore = torch.tensor(targets_AmCore[\"pfsstat\"].values, dtype=torch.bool)\n",
    "os_targets_AmCore = torch.tensor(targets_AmCore[\"OS\"].values, dtype=torch.float32)\n",
    "os_events_AmCore = torch.tensor(targets_AmCore[\"OSSTAT\"].values, dtype=torch.bool)\n",
    "\n",
    "# Time points for auc-roc metrics (example: 1, 3 years in days)\n",
    "time_points_AmCORE = torch.tensor([365, 1095], dtype=torch.float32)"
   ]
  },
  {
   "cell_type": "code",
   "execution_count": null,
   "id": "c3615be6",
   "metadata": {},
   "outputs": [],
   "source": [
    "# Bootstrap function for path. response metrics\n",
    "\n",
    "def compute_confidence_interval(\n",
    "    y_true: np.ndarray,\n",
    "    y_pred: np.ndarray,\n",
    "    metric_fn: Callable[[np.ndarray, np.ndarray], float],\n",
    "    n_bootstraps: int = 1000,\n",
    "    ci: float = 0.95,\n",
    "    random_state: int = 42\n",
    ") -> Tuple[float, float, float]:\n",
    "    \"\"\"\n",
    "    Compute a metric and its confidence interval using bootstrapping.\n",
    "    \"\"\"\n",
    "    rng = np.random.default_rng(random_state)\n",
    "    metrics = []\n",
    "\n",
    "    for _ in range(n_bootstraps):\n",
    "        indices = rng.integers(0, len(y_true), len(y_true))\n",
    "        if len(np.unique(y_true[indices])) < 2:\n",
    "            continue  # Skip iteration if not enough class diversity\n",
    "        sample_metric = metric_fn(y_true[indices], y_pred[indices])\n",
    "        metrics.append(sample_metric)\n",
    "\n",
    "    metric_mean = np.mean(metrics)\n",
    "    lower_bound = np.percentile(metrics, ((1 - ci) / 2) * 100)\n",
    "    upper_bound = np.percentile(metrics, (1 - (1 - ci) / 2) * 100)\n",
    "    return metric_mean, lower_bound, upper_bound\n"
   ]
  },
  {
   "cell_type": "markdown",
   "id": "cb72d7b7",
   "metadata": {},
   "source": [
    "## Accuracy - Path. Resp."
   ]
  },
  {
   "cell_type": "code",
   "execution_count": null,
   "id": "bd484ea6",
   "metadata": {},
   "outputs": [],
   "source": [
    "accuracy_CAIRO_train = accuracy_score(path_labels_CAIRO_train, path_preds_CAIRO_train)\n",
    "print(f\"Accuracy (CAIRO train): {accuracy_CAIRO_train:.3f}\")\n",
    "\n",
    "mean, lower_bound, upper_bound = compute_confidence_interval(path_labels_CAIRO_train, path_preds_CAIRO_train, accuracy_score)\n",
    "print(f\"Bootstrap accuracy (CAIRO train): {mean:.3f} (95% CI: [{lower_bound:.3f}, {upper_bound:.3f}])\")"
   ]
  },
  {
   "cell_type": "markdown",
   "id": "8ef0ed65",
   "metadata": {},
   "source": [
    "### AmCore"
   ]
  },
  {
   "cell_type": "code",
   "execution_count": null,
   "id": "1af08304",
   "metadata": {},
   "outputs": [],
   "source": [
    "accuracy_AmCore = accuracy_score(path_labels_AmCore, path_preds_AmCore)\n",
    "print(f\"Accuracy (AmCore): {accuracy_AmCore:.3f}\")\n",
    "\n",
    "mean, lower_bound, upper_bound = compute_confidence_interval(path_labels_AmCore, path_preds_AmCore, accuracy_score)\n",
    "print(f\"Bootstrap accuracy (AmCore): {mean:.3f} (95% CI: [{lower_bound:.3f}, {upper_bound:.3f}])\")"
   ]
  },
  {
   "cell_type": "markdown",
   "id": "9aa8595f",
   "metadata": {},
   "source": [
    "## AUC-ROC - Path. Resp."
   ]
  },
  {
   "cell_type": "markdown",
   "id": "8205121c",
   "metadata": {},
   "source": [
    "### AmCore"
   ]
  },
  {
   "cell_type": "code",
   "execution_count": null,
   "id": "0349cb03",
   "metadata": {},
   "outputs": [],
   "source": [
    "auc_roc_AmCore = roc_auc_score(path_labels_AmCore, path_probs_AmCore)\n",
    "print(f\"AUC-ROC (AmCore): {auc_roc_AmCore:.3f}\")\n",
    "\n",
    "mean, lower_bound, upper_bound = compute_confidence_interval(path_labels_AmCore, path_probs_AmCore, roc_auc_score)\n",
    "print(f\"Bootstrap AUC-ROC (AmCore): {mean:.3f} (95% CI: [{lower_bound:.3f}, {upper_bound:.3f}])\")\n",
    "\n",
    "fpr, tpr, thresholds = roc_curve(path_labels_AmCore, path_probs_AmCore)\n",
    "plt.figure()\n",
    "plt.plot(fpr, tpr, label=f'AUC = {auc_roc_AmCore:.3f}')\n",
    "plt.plot([0, 1], [0, 1], 'k--', label='Random')\n",
    "plt.xlabel('False Positive Rate')\n",
    "plt.ylabel('True Positive Rate')\n",
    "plt.title('ROC Curve (AmCORE)')\n",
    "plt.legend(loc='lower right')\n",
    "plt.show()"
   ]
  },
  {
   "cell_type": "markdown",
   "id": "ee378c3b",
   "metadata": {},
   "source": [
    "## F1 Score - Path. Resp. "
   ]
  },
  {
   "cell_type": "code",
   "execution_count": null,
   "id": "8b0c50f4",
   "metadata": {},
   "outputs": [],
   "source": [
    "f1_AmCore = f1_score(path_labels_AmCore, path_preds_AmCore)\n",
    "print(f\"F1 Score (AmCore): {f1_AmCore:.3f}\")\n",
    "\n",
    "mean, lower_bound, upper_bound = compute_confidence_interval(path_labels_AmCore, path_preds_AmCore, f1_score)\n",
    "print(f\"Bootstrap F1 Score (AmCore): {mean:.3f} (95% CI: [{lower_bound:.3f}, {upper_bound:.3f}])\")"
   ]
  },
  {
   "cell_type": "markdown",
   "id": "113381b1",
   "metadata": {},
   "source": [
    "## Confusion matrix - Path. Resp."
   ]
  },
  {
   "cell_type": "code",
   "execution_count": null,
   "id": "a53ec657",
   "metadata": {},
   "outputs": [],
   "source": [
    "\n",
    "# Confusion matrix for AmCore\n",
    "cm_AmCore = confusion_matrix(path_labels_AmCore, path_preds_AmCore)\n",
    "print(\"\\nConfusion Matrix (AmCore):\")\n",
    "plt.figure(figsize=(4, 4))\n",
    "sns.heatmap(cm_AmCore, annot=True, fmt='d', cmap='Blues', cbar=False,\n",
    "            xticklabels=['No', 'Complete'], yticklabels=['No', 'Complete'])\n",
    "plt.xlabel('Predicted PR')\n",
    "plt.ylabel('True PR')\n",
    "plt.title('Pathological Response (AmCORE)')\n",
    "plt.show()\n"
   ]
  },
  {
   "cell_type": "markdown",
   "id": "018a4272",
   "metadata": {},
   "source": [
    "## C-Index - PFS & OS"
   ]
  },
  {
   "cell_type": "code",
   "execution_count": null,
   "id": "17128056",
   "metadata": {},
   "outputs": [],
   "source": [
    "# C-index for OS train\n",
    "c_index = ConcordanceIndex()\n",
    "c_index_os_cairo_train = c_index(os_preds_CAIRO_train, os_events_CAIRO_train, os_targets_CAIRO_train)\n",
    "print(f\"Concordance Index (OS, CAIRO train): {c_index_os_cairo_train.item():.3f}, Confidence Interval: {c_index.confidence_interval()}\")"
   ]
  },
  {
   "cell_type": "markdown",
   "id": "e3f6fcaf",
   "metadata": {},
   "source": [
    "### CAIRO"
   ]
  },
  {
   "cell_type": "code",
   "execution_count": null,
   "id": "aec5177e",
   "metadata": {},
   "outputs": [],
   "source": [
    "# PFS\n",
    "c_index = ConcordanceIndex()\n",
    "c_index_pfs = c_index(pfs_preds_CAIRO, pfs_events_CAIRO, pfs_targets_CAIRO)\n",
    "print(f\"Concordance Index (PFS, CAIRO): {c_index_pfs.item():.3f}, confidence interval: {c_index.confidence_interval()}\")\n",
    "\n",
    "\n",
    "# OS\n",
    "c_index = ConcordanceIndex()\n",
    "c_index_os = c_index(os_preds_CAIRO, os_events_CAIRO, os_targets_CAIRO)\n",
    "print(f\"Concordance Index (OS, CAIRO): {c_index_os.item():.3f}, Confidence Interval: {c_index.confidence_interval()}\")"
   ]
  },
  {
   "cell_type": "markdown",
   "id": "b60a2c02",
   "metadata": {},
   "source": [
    "### AmCore"
   ]
  },
  {
   "cell_type": "code",
   "execution_count": null,
   "id": "ed75a833",
   "metadata": {},
   "outputs": [],
   "source": [
    "# PFS\n",
    "c_index = ConcordanceIndex()\n",
    "c_index_pfs = c_index(pfs_preds_AmCore, pfs_events_AmCore, pfs_targets_AmCore)\n",
    "print(f\"Concordance Index (PFS, AmCore): {c_index_pfs.item():.3f}, confidence interval: {c_index.confidence_interval()}\")\n",
    "\n",
    "\n",
    "# OS (stratified)\n",
    "#start, end = 1, 720\n",
    "#mask = (os_targets_AmCore >= start) & (os_targets_AmCore <= end)\n",
    "\n",
    "c_index = ConcordanceIndex()\n",
    "c_index_os = c_index(os_preds_AmCore, os_events_AmCore, os_targets_AmCore)\n",
    "print(f\"Concordance Index (OS, AmCore): {c_index_os.item():.3f}, Confidence Interval: {c_index.confidence_interval()}\")"
   ]
  },
  {
   "cell_type": "markdown",
   "id": "8b5f0b35",
   "metadata": {},
   "source": [
    "## Time dependent AUC-ROC - PFS & OS"
   ]
  },
  {
   "cell_type": "markdown",
   "id": "b26a9666",
   "metadata": {},
   "source": [
    "### CAIRO"
   ]
  },
  {
   "cell_type": "code",
   "execution_count": null,
   "id": "f8d37614",
   "metadata": {},
   "outputs": [],
   "source": [
    "# PFS\n",
    "auc = Auc()\n",
    "auc_pfs = auc(pfs_preds_CAIRO, pfs_events_CAIRO, pfs_targets_CAIRO, new_time=time_points_CAIRO)\n",
    "\n",
    "auc_val = auc_pfs.item()\n",
    "ci_low, ci_high = auc.confidence_interval()\n",
    "print(f\"AUC at 365 days: {auc_val:.3f} (95% CI: [{ci_low:.3f}, {ci_high:.3f}])\")\n"
   ]
  },
  {
   "cell_type": "code",
   "execution_count": null,
   "id": "21897633",
   "metadata": {},
   "outputs": [],
   "source": [
    "# OS\n",
    "auc = Auc()\n",
    "time_points_CAIRO = torch.tensor([720.0])\n",
    "auc_pfs = auc(os_preds_CAIRO, os_events_CAIRO, os_targets_CAIRO, new_time=time_points_CAIRO)\n",
    "\n",
    "auc_val = auc_pfs.item()\n",
    "ci_low, ci_high = auc.confidence_interval()\n",
    "print(f\"AUC at 365 days: {auc_val:.3f} (95% CI: [{ci_low:.3f}, {ci_high:.3f}])\")"
   ]
  },
  {
   "cell_type": "markdown",
   "id": "87c296f5",
   "metadata": {},
   "source": [
    "### AmCore"
   ]
  },
  {
   "cell_type": "code",
   "execution_count": null,
   "id": "14c416e4",
   "metadata": {},
   "outputs": [],
   "source": [
    "# PFS (AmCore)\n",
    "auc = Auc()\n",
    "auc_pfs = auc(pfs_preds_AmCore, pfs_events_AmCore, pfs_targets_AmCore, new_time=time_points_pfs)\n",
    "for i, t in enumerate(time_points_pfs):\n",
    "    auc_val = auc_pfs[i].item()\n",
    "    ci_low = auc.confidence_interval()[0, i]\n",
    "    ci_high = auc.confidence_interval()[1, i]\n",
    "    print(f\"AUC at {t.item():.0f} days: {auc_val:.3f} (95% CI: [{ci_low:.3f}, {ci_high:.3f}])\")"
   ]
  },
  {
   "cell_type": "code",
   "execution_count": null,
   "id": "576d7156",
   "metadata": {},
   "outputs": [],
   "source": [
    "# OS (AmCore)\n",
    "auc = Auc()\n",
    "auc_os = auc(os_preds_AmCore, os_events_AmCore, os_targets_AmCore, new_time=time_points_AmCORE)\n",
    "for i, t in enumerate(time_points_AmCORE):\n",
    "    auc_val = auc_os[i].item()\n",
    "    ci_low = auc.confidence_interval()[0, i]\n",
    "    ci_high = auc.confidence_interval()[1, i]\n",
    "    print(f\"AUC at {t:.0f} days: {auc_val:.3f} (95% CI: [{ci_low:.3f}, {ci_high:.3f}])\")"
   ]
  }
 ],
 "metadata": {
  "kernelspec": {
   "display_name": ".venv",
   "language": "python",
   "name": "python3"
  },
  "language_info": {
   "codemirror_mode": {
    "name": "ipython",
    "version": 3
   },
   "file_extension": ".py",
   "mimetype": "text/x-python",
   "name": "python",
   "nbconvert_exporter": "python",
   "pygments_lexer": "ipython3",
   "version": "3.10.0"
  }
 },
 "nbformat": 4,
 "nbformat_minor": 5
}
